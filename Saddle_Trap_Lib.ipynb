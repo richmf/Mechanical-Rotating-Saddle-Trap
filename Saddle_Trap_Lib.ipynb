{
 "cells": [
  {
   "cell_type": "code",
   "execution_count": null,
   "id": "9a9ad7fd-fe95-4e40-920d-4829f1a86d7d",
   "metadata": {},
   "outputs": [],
   "source": [
    "from pylab import *\n",
    "from scipy.integrate import *"
   ]
  },
  {
   "cell_type": "code",
   "execution_count": null,
   "id": "f3960815-4168-42b2-8ed1-20d28538dc18",
   "metadata": {},
   "outputs": [],
   "source": [
    "def rot_saddle_trap_ode_x_y(t,x,q=0.5):\n",
    "    # x = x , vx , y , vy\n",
    "    dx , dy = x[1] , x[3]\n",
    "    dvx = -2*q*(x[0]*cos(2*t) + x[2]*sin(2*t))\n",
    "    dvy = 2*q*(x[2]*cos(2*t) - x[0]*sin(2*t))\n",
    "    return array([dx,dvx,dy,dvy])\n",
    "\n",
    "def nu2q(nu):\n",
    "    g , h , R = 9810 , 30 , 54 # default parameters for the trap\n",
    "    p=(g*h)/(R*R)\n",
    "    omega = 2*pi*nu\n",
    "    return p/(omega**2)\n",
    "\n",
    "def draw_simulation_trajectory(x_sol,y_sol):\n",
    "    fig, ax = plt.subplots(dpi=150)\n",
    "    ax.plot(x_sol,y_sol)\n",
    "    ax.grid(),title(\"Trajectory\"),xlabel(r\"$x$ [mm]\"),ylabel(r\"$y$ [mm]\")\n",
    "    ax.set_aspect('equal')\n",
    "    show()\n",
    "\n",
    "def initial_cond():\n",
    "    print(\"Welcome \\U0001F600 \\n\")\n",
    "    print('Enter the initial values for x and y')\n",
    "    x_ini = float(input('\\t x = '))\n",
    "    y_ini = float(input('\\t y = '))\n",
    "    return x_ini , y_ini\n",
    "\n",
    "def run_simulation():\n",
    "    x_ini,y_ini = initial_cond()\n",
    "    ini_p = [x_ini,y_ini,0.0,0.0] #####\n",
    "    t = (0,500)\n",
    "    my_q = nu2q(4)\n",
    "    xy_sol = solve_ivp(rot_saddle_trap_ode_x_y,t,ini_p,args=(my_q,),method='LSODA',dense_output=True,rtol=1e-8,atol=1e-8)\n",
    "    if xy_sol.success == True:\n",
    "        print(\"I have the solution for the entered values\")\n",
    "    else:\n",
    "        print(\"I don't have the solution for the entered values\")\n",
    "    t_cont = linspace(0,xy_sol.t[-1],5000)\n",
    "    x_sol , y_sol = xy_sol.sol(t_cont)[0,:] , xy_sol.sol(t_cont)[2,:]\n",
    "    draw_simulation_trajectory(x_sol , y_sol)"
   ]
  },
  {
   "cell_type": "code",
   "execution_count": null,
   "id": "7ab2bcda-8ff3-4d59-ad15-5651fa238900",
   "metadata": {},
   "outputs": [],
   "source": [
    "run_simulation()"
   ]
  }
 ],
 "metadata": {
  "kernelspec": {
   "display_name": "Python 3 (ipykernel)",
   "language": "python",
   "name": "python3"
  },
  "language_info": {
   "codemirror_mode": {
    "name": "ipython",
    "version": 3
   },
   "file_extension": ".py",
   "mimetype": "text/x-python",
   "name": "python",
   "nbconvert_exporter": "python",
   "pygments_lexer": "ipython3",
   "version": "3.9.7"
  }
 },
 "nbformat": 4,
 "nbformat_minor": 5
}
