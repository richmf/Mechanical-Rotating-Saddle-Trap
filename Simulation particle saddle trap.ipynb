{
 "cells": [
  {
   "cell_type": "markdown",
   "id": "09b8dac8-b697-4994-81f1-fe069392e9e1",
   "metadata": {},
   "source": [
    "# Paul trap simulation\n",
    "\n",
    "> Sebastian Löfgren\n",
    ">\n",
    "> Ricardo Méndez-Fragoso\n",
    ">\n",
    "> Jonas Enger\n",
    "\n",
    "Explanation text"
   ]
  },
  {
   "cell_type": "code",
   "execution_count": 49,
   "id": "8ac43d74-97fc-402b-9172-c51ab5234ec6",
   "metadata": {
    "tags": []
   },
   "outputs": [],
   "source": [
    "#@title\n",
    "from pylab import *\n",
    "from scipy.integrate import *\n",
    "\n",
    "\n",
    "def nu2q(nu):\n",
    "    g , h , R = 9810 , 30 , 54 # default parameters for the trap\n",
    "    p=(g*h)/(R*R)\n",
    "    omega = 2*pi*nu\n",
    "    return p/(omega**2)\n",
    "\n",
    "def draw_simulation_trajectory(x_sol,y_sol,rho=40):\n",
    "    fig, ax = plt.subplots(dpi=150)\n",
    "    ax.plot(x_sol,y_sol)\n",
    "    ax.plot(x_sol[0],y_sol[0],'o')\n",
    "    th = linspace(0,2*pi)\n",
    "    x_c , y_c = rho*cos(th) , rho*sin(th)\n",
    "    ax.plot(x_c,y_c,'--',color='tab:red')\n",
    "    ax.grid(),title(\"Trajectory\"),xlabel(r\"$x$ (mm)\"),ylabel(r\"$y$ (mm)\")\n",
    "    lim = rho + 10\n",
    "    ax.set_xlim([-lim,lim]),ax.set_ylim([-lim,lim])\n",
    "    ax.set_aspect('equal')\n",
    "    show()\n",
    "\n",
    "def initial_cond():\n",
    "    print(\"Welcome \\U0001F600 \\n\")\n",
    "    print('Enter the initial values for x and y')\n",
    "    x_ini = float(input('\\t x = '))\n",
    "    y_ini = float(input('\\t y = '))\n",
    "    return x_ini , y_ini\n",
    "\n",
    "def rot_saddle_trap_ode_x_y(t,x,q=0.5):\n",
    "    # x = x , vx , y , vy\n",
    "    dx , dy = x[1] , x[3]\n",
    "    dvx = -2*q*(x[0]*cos(2*t) + x[2]*sin(2*t))\n",
    "    dvy = 2*q*(x[2]*cos(2*t) - x[0]*sin(2*t))\n",
    "    return array([dx,dvx,dy,dvy])\n",
    "\n",
    "def fall_condition(t,x):\n",
    "    return sqrt(x[0]**2 + x[2]**2) > 40\n",
    "fall_condition.terminal = True\n",
    "\n",
    "def run_simulation(freq=3):\n",
    "    x_ini,y_ini = initial_cond()\n",
    "    ini_p = [x_ini,0.0,y_ini,0.0] # format ini_p = x , vx , y , vy\n",
    "    t = (0,300)\n",
    "    my_q = nu2q(freq)\n",
    "    xy_sol = solve_ivp(rot_saddle_trap_ode_x_y,t,ini_p,args=(my_q,),method='LSODA',events=fall_condition,dense_output=True,rtol=1e-8,atol=1e-8)\n",
    "    if xy_sol.success == True:\n",
    "        print(\"I have the solution for the entered values\")\n",
    "    else:\n",
    "        print(\"I don't have the solution for the entered values\")\n",
    "    t_cont = linspace(0,xy_sol.t[-1],5000)\n",
    "    x_sol , y_sol = xy_sol.sol(t_cont)[0,:] , xy_sol.sol(t_cont)[2,:]\n",
    "    draw_simulation_trajectory(x_sol , y_sol)"
   ]
  },
  {
   "cell_type": "code",
   "execution_count": 51,
   "id": "f49791c3-ca0f-4340-bdec-c27bc8d82204",
   "metadata": {},
   "outputs": [
    {
     "name": "stdout",
     "output_type": "stream",
     "text": [
      "Welcome 😀 \n",
      "\n",
      "Enter the initial values for x and y\n"
     ]
    },
    {
     "name": "stdin",
     "output_type": "stream",
     "text": [
      "\t x =  10\n",
      "\t y =  10\n"
     ]
    },
    {
     "ename": "TypeError",
     "evalue": "fall_condition() takes 2 positional arguments but 3 were given",
     "output_type": "error",
     "traceback": [
      "\u001b[0;31m---------------------------------------------------------------------------\u001b[0m",
      "\u001b[0;31mTypeError\u001b[0m                                 Traceback (most recent call last)",
      "\u001b[0;32m/var/folders/bk/y2jfv1hn1jjbczycmxt9vqmc0000gn/T/ipykernel_3252/4193416271.py\u001b[0m in \u001b[0;36m<module>\u001b[0;34m\u001b[0m\n\u001b[0;32m----> 1\u001b[0;31m \u001b[0mrun_simulation\u001b[0m\u001b[0;34m(\u001b[0m\u001b[0;36m3\u001b[0m\u001b[0;34m)\u001b[0m\u001b[0;34m\u001b[0m\u001b[0;34m\u001b[0m\u001b[0m\n\u001b[0m",
      "\u001b[0;32m/var/folders/bk/y2jfv1hn1jjbczycmxt9vqmc0000gn/T/ipykernel_3252/3750694638.py\u001b[0m in \u001b[0;36mrun_simulation\u001b[0;34m(freq)\u001b[0m\n\u001b[1;32m     46\u001b[0m     \u001b[0mt\u001b[0m \u001b[0;34m=\u001b[0m \u001b[0;34m(\u001b[0m\u001b[0;36m0\u001b[0m\u001b[0;34m,\u001b[0m\u001b[0;36m300\u001b[0m\u001b[0;34m)\u001b[0m\u001b[0;34m\u001b[0m\u001b[0;34m\u001b[0m\u001b[0m\n\u001b[1;32m     47\u001b[0m     \u001b[0mmy_q\u001b[0m \u001b[0;34m=\u001b[0m \u001b[0mnu2q\u001b[0m\u001b[0;34m(\u001b[0m\u001b[0mfreq\u001b[0m\u001b[0;34m)\u001b[0m\u001b[0;34m\u001b[0m\u001b[0;34m\u001b[0m\u001b[0m\n\u001b[0;32m---> 48\u001b[0;31m     \u001b[0mxy_sol\u001b[0m \u001b[0;34m=\u001b[0m \u001b[0msolve_ivp\u001b[0m\u001b[0;34m(\u001b[0m\u001b[0mrot_saddle_trap_ode_x_y\u001b[0m\u001b[0;34m,\u001b[0m\u001b[0mt\u001b[0m\u001b[0;34m,\u001b[0m\u001b[0mini_p\u001b[0m\u001b[0;34m,\u001b[0m\u001b[0margs\u001b[0m\u001b[0;34m=\u001b[0m\u001b[0;34m(\u001b[0m\u001b[0mmy_q\u001b[0m\u001b[0;34m,\u001b[0m\u001b[0;34m)\u001b[0m\u001b[0;34m,\u001b[0m\u001b[0mmethod\u001b[0m\u001b[0;34m=\u001b[0m\u001b[0;34m'LSODA'\u001b[0m\u001b[0;34m,\u001b[0m\u001b[0mevents\u001b[0m\u001b[0;34m=\u001b[0m\u001b[0mfall_condition\u001b[0m\u001b[0;34m,\u001b[0m\u001b[0mdense_output\u001b[0m\u001b[0;34m=\u001b[0m\u001b[0;32mTrue\u001b[0m\u001b[0;34m,\u001b[0m\u001b[0mrtol\u001b[0m\u001b[0;34m=\u001b[0m\u001b[0;36m1e-8\u001b[0m\u001b[0;34m,\u001b[0m\u001b[0matol\u001b[0m\u001b[0;34m=\u001b[0m\u001b[0;36m1e-8\u001b[0m\u001b[0;34m)\u001b[0m\u001b[0;34m\u001b[0m\u001b[0;34m\u001b[0m\u001b[0m\n\u001b[0m\u001b[1;32m     49\u001b[0m     \u001b[0;32mif\u001b[0m \u001b[0mxy_sol\u001b[0m\u001b[0;34m.\u001b[0m\u001b[0msuccess\u001b[0m \u001b[0;34m==\u001b[0m \u001b[0;32mTrue\u001b[0m\u001b[0;34m:\u001b[0m\u001b[0;34m\u001b[0m\u001b[0;34m\u001b[0m\u001b[0m\n\u001b[1;32m     50\u001b[0m         \u001b[0mprint\u001b[0m\u001b[0;34m(\u001b[0m\u001b[0;34m\"I have the solution for the entered values\"\u001b[0m\u001b[0;34m)\u001b[0m\u001b[0;34m\u001b[0m\u001b[0;34m\u001b[0m\u001b[0m\n",
      "\u001b[0;32m/opt/anaconda3/lib/python3.9/site-packages/scipy/integrate/_ivp/ivp.py\u001b[0m in \u001b[0;36msolve_ivp\u001b[0;34m(fun, t_span, y0, method, t_eval, dense_output, events, vectorized, args, **options)\u001b[0m\n\u001b[1;32m    565\u001b[0m             events = [lambda t, x, event=event: event(t, x, *args)\n\u001b[1;32m    566\u001b[0m                       for event in events]\n\u001b[0;32m--> 567\u001b[0;31m         \u001b[0mg\u001b[0m \u001b[0;34m=\u001b[0m \u001b[0;34m[\u001b[0m\u001b[0mevent\u001b[0m\u001b[0;34m(\u001b[0m\u001b[0mt0\u001b[0m\u001b[0;34m,\u001b[0m \u001b[0my0\u001b[0m\u001b[0;34m)\u001b[0m \u001b[0;32mfor\u001b[0m \u001b[0mevent\u001b[0m \u001b[0;32min\u001b[0m \u001b[0mevents\u001b[0m\u001b[0;34m]\u001b[0m\u001b[0;34m\u001b[0m\u001b[0;34m\u001b[0m\u001b[0m\n\u001b[0m\u001b[1;32m    568\u001b[0m         \u001b[0mt_events\u001b[0m \u001b[0;34m=\u001b[0m \u001b[0;34m[\u001b[0m\u001b[0;34m[\u001b[0m\u001b[0;34m]\u001b[0m \u001b[0;32mfor\u001b[0m \u001b[0m_\u001b[0m \u001b[0;32min\u001b[0m \u001b[0mrange\u001b[0m\u001b[0;34m(\u001b[0m\u001b[0mlen\u001b[0m\u001b[0;34m(\u001b[0m\u001b[0mevents\u001b[0m\u001b[0;34m)\u001b[0m\u001b[0;34m)\u001b[0m\u001b[0;34m]\u001b[0m\u001b[0;34m\u001b[0m\u001b[0;34m\u001b[0m\u001b[0m\n\u001b[1;32m    569\u001b[0m         \u001b[0my_events\u001b[0m \u001b[0;34m=\u001b[0m \u001b[0;34m[\u001b[0m\u001b[0;34m[\u001b[0m\u001b[0;34m]\u001b[0m \u001b[0;32mfor\u001b[0m \u001b[0m_\u001b[0m \u001b[0;32min\u001b[0m \u001b[0mrange\u001b[0m\u001b[0;34m(\u001b[0m\u001b[0mlen\u001b[0m\u001b[0;34m(\u001b[0m\u001b[0mevents\u001b[0m\u001b[0;34m)\u001b[0m\u001b[0;34m)\u001b[0m\u001b[0;34m]\u001b[0m\u001b[0;34m\u001b[0m\u001b[0;34m\u001b[0m\u001b[0m\n",
      "\u001b[0;32m/opt/anaconda3/lib/python3.9/site-packages/scipy/integrate/_ivp/ivp.py\u001b[0m in \u001b[0;36m<listcomp>\u001b[0;34m(.0)\u001b[0m\n\u001b[1;32m    565\u001b[0m             events = [lambda t, x, event=event: event(t, x, *args)\n\u001b[1;32m    566\u001b[0m                       for event in events]\n\u001b[0;32m--> 567\u001b[0;31m         \u001b[0mg\u001b[0m \u001b[0;34m=\u001b[0m \u001b[0;34m[\u001b[0m\u001b[0mevent\u001b[0m\u001b[0;34m(\u001b[0m\u001b[0mt0\u001b[0m\u001b[0;34m,\u001b[0m \u001b[0my0\u001b[0m\u001b[0;34m)\u001b[0m \u001b[0;32mfor\u001b[0m \u001b[0mevent\u001b[0m \u001b[0;32min\u001b[0m \u001b[0mevents\u001b[0m\u001b[0;34m]\u001b[0m\u001b[0;34m\u001b[0m\u001b[0;34m\u001b[0m\u001b[0m\n\u001b[0m\u001b[1;32m    568\u001b[0m         \u001b[0mt_events\u001b[0m \u001b[0;34m=\u001b[0m \u001b[0;34m[\u001b[0m\u001b[0;34m[\u001b[0m\u001b[0;34m]\u001b[0m \u001b[0;32mfor\u001b[0m \u001b[0m_\u001b[0m \u001b[0;32min\u001b[0m \u001b[0mrange\u001b[0m\u001b[0;34m(\u001b[0m\u001b[0mlen\u001b[0m\u001b[0;34m(\u001b[0m\u001b[0mevents\u001b[0m\u001b[0;34m)\u001b[0m\u001b[0;34m)\u001b[0m\u001b[0;34m]\u001b[0m\u001b[0;34m\u001b[0m\u001b[0;34m\u001b[0m\u001b[0m\n\u001b[1;32m    569\u001b[0m         \u001b[0my_events\u001b[0m \u001b[0;34m=\u001b[0m \u001b[0;34m[\u001b[0m\u001b[0;34m[\u001b[0m\u001b[0;34m]\u001b[0m \u001b[0;32mfor\u001b[0m \u001b[0m_\u001b[0m \u001b[0;32min\u001b[0m \u001b[0mrange\u001b[0m\u001b[0;34m(\u001b[0m\u001b[0mlen\u001b[0m\u001b[0;34m(\u001b[0m\u001b[0mevents\u001b[0m\u001b[0;34m)\u001b[0m\u001b[0;34m)\u001b[0m\u001b[0;34m]\u001b[0m\u001b[0;34m\u001b[0m\u001b[0;34m\u001b[0m\u001b[0m\n",
      "\u001b[0;32m/opt/anaconda3/lib/python3.9/site-packages/scipy/integrate/_ivp/ivp.py\u001b[0m in \u001b[0;36m<lambda>\u001b[0;34m(t, x, event)\u001b[0m\n\u001b[1;32m    563\u001b[0m             \u001b[0;31m# lambda to keep the original function in scope (i.e., avoid the\u001b[0m\u001b[0;34m\u001b[0m\u001b[0;34m\u001b[0m\u001b[0m\n\u001b[1;32m    564\u001b[0m             \u001b[0;31m# late binding closure \"gotcha\").\u001b[0m\u001b[0;34m\u001b[0m\u001b[0;34m\u001b[0m\u001b[0m\n\u001b[0;32m--> 565\u001b[0;31m             events = [lambda t, x, event=event: event(t, x, *args)\n\u001b[0m\u001b[1;32m    566\u001b[0m                       for event in events]\n\u001b[1;32m    567\u001b[0m         \u001b[0mg\u001b[0m \u001b[0;34m=\u001b[0m \u001b[0;34m[\u001b[0m\u001b[0mevent\u001b[0m\u001b[0;34m(\u001b[0m\u001b[0mt0\u001b[0m\u001b[0;34m,\u001b[0m \u001b[0my0\u001b[0m\u001b[0;34m)\u001b[0m \u001b[0;32mfor\u001b[0m \u001b[0mevent\u001b[0m \u001b[0;32min\u001b[0m \u001b[0mevents\u001b[0m\u001b[0;34m]\u001b[0m\u001b[0;34m\u001b[0m\u001b[0;34m\u001b[0m\u001b[0m\n",
      "\u001b[0;31mTypeError\u001b[0m: fall_condition() takes 2 positional arguments but 3 were given"
     ]
    }
   ],
   "source": [
    "run_simulation(3)"
   ]
  },
  {
   "cell_type": "code",
   "execution_count": null,
   "id": "490c8ff2-7005-41e5-9b5e-b68dc7bf7ba5",
   "metadata": {},
   "outputs": [],
   "source": []
  }
 ],
 "metadata": {
  "kernelspec": {
   "display_name": "Python 3 (ipykernel)",
   "language": "python",
   "name": "python3"
  },
  "language_info": {
   "codemirror_mode": {
    "name": "ipython",
    "version": 3
   },
   "file_extension": ".py",
   "mimetype": "text/x-python",
   "name": "python",
   "nbconvert_exporter": "python",
   "pygments_lexer": "ipython3",
   "version": "3.9.7"
  }
 },
 "nbformat": 4,
 "nbformat_minor": 5
}
